{
 "cells": [
  {
   "cell_type": "code",
   "execution_count": 53,
   "metadata": {
    "collapsed": true
   },
   "outputs": [],
   "source": [
    "import h5py\n",
    "import numpy as np\n",
    "import matplotlib.pyplot as plt\n",
    "from scipy import stats\n",
    "import csv\n",
    "from collections import defaultdict"
   ]
  },
  {
   "cell_type": "markdown",
   "metadata": {},
   "source": [
    "Next we need to import the npy files to get spike info"
   ]
  },
  {
   "cell_type": "code",
   "execution_count": 85,
   "metadata": {
    "scrolled": true
   },
   "outputs": [],
   "source": [
    "timestamps = np.load('spike_times.npy') #timestamps for each spike\n",
    "cluster = np.load('spike_clusters.npy') #cluster to each spike pertains\n",
    "\n",
    "clusterNum = [];\n",
    "idx = 1;\n",
    "with open(\"cluster_group.tsv\") as tsvfile:\n",
    "    tsvreader = csv.reader(tsvfile, delimiter=\"\\t\")\n",
    "    for line in tsvreader:\n",
    "        if(line[1] == 'good'):\n",
    "            clusterNum = np.append(clusterNum,int(line[0])) #all the good clusters"
   ]
  },
  {
   "cell_type": "markdown",
   "metadata": {},
   "source": [
    "Separating spikes per cluster they pertain"
   ]
  },
  {
   "cell_type": "code",
   "execution_count": 86,
   "metadata": {},
   "outputs": [],
   "source": [
    "NeuronTS = defaultdict(list)\n",
    "for clus in range(np.size(clusterNum)):\n",
    "    auxCl = np.where(cluster == clusterNum[clus])\n",
    "    NeuronTS[clusterNum[clus]] = timestamps[auxCl]"
   ]
  },
  {
   "cell_type": "code",
   "execution_count": 87,
   "metadata": {
    "collapsed": true
   },
   "outputs": [],
   "source": [
    "#NeuronTS['Channels'] = Channels\n",
    "NeuronTS['Cluster'] = clusterNum\n",
    "\n",
    "np.save('NeuronTS.npy', NeuronTS)\n"
   ]
  }
 ],
 "metadata": {
  "kernelspec": {
   "display_name": "Python 2",
   "language": "python",
   "name": "python2"
  },
  "language_info": {
   "codemirror_mode": {
    "name": "ipython",
    "version": 2
   },
   "file_extension": ".py",
   "mimetype": "text/x-python",
   "name": "python",
   "nbconvert_exporter": "python",
   "pygments_lexer": "ipython2",
   "version": "2.7.13"
  }
 },
 "nbformat": 4,
 "nbformat_minor": 2
}
